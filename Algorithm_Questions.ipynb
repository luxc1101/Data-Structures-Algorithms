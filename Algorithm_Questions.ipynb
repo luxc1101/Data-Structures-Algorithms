{
  "nbformat": 4,
  "nbformat_minor": 0,
  "metadata": {
    "colab": {
      "name": "Algorithm Questions.ipynb",
      "provenance": [],
      "collapsed_sections": [],
      "toc_visible": true,
      "authorship_tag": "ABX9TyMSHlul65BfqyaKeD9S2Foy",
      "include_colab_link": true
    },
    "kernelspec": {
      "name": "python3",
      "display_name": "Python 3"
    },
    "language_info": {
      "name": "python"
    }
  },
  "cells": [
    {
      "cell_type": "markdown",
      "metadata": {
        "id": "view-in-github",
        "colab_type": "text"
      },
      "source": [
        "<a href=\"https://colab.research.google.com/github/luxc1101/Data-Structures-Algorithms/blob/main/Algorithm_Questions.ipynb\" target=\"_parent\"><img src=\"https://colab.research.google.com/assets/colab-badge.svg\" alt=\"Open In Colab\"/></a>"
      ]
    },
    {
      "cell_type": "markdown",
      "metadata": {
        "id": "qMqhALryesgL"
      },
      "source": [
        "# Joma Class Algorithm Questions\n",
        "\n",
        "the class link:\n",
        "https://www.jomaclass.com/products/data-structures-and-algorithms-in-progress/categories/3298212/posts/11010634\n"
      ]
    },
    {
      "cell_type": "markdown",
      "metadata": {
        "id": "elbcRQivlID-"
      },
      "source": [
        "## Distribute Bonuses"
      ]
    },
    {
      "cell_type": "code",
      "metadata": {
        "id": "hBAclq2Ierp_"
      },
      "source": [
        ""
      ],
      "execution_count": null,
      "outputs": []
    }
  ]
}